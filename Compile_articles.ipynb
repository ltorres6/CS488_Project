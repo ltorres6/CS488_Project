{
 "cells": [
  {
   "cell_type": "code",
   "execution_count": 1,
   "metadata": {
    "collapsed": true
   },
   "outputs": [],
   "source": [
    "import json\n",
    "import requests\n",
    "from os import makedirs\n",
    "from os.path import join, exists\n",
    "from datetime import date, timedelta\n",
    "\n",
    "\n",
    "def compile_guardian(start_date = date(2000,1, 1),end_date=date(2000,2, 1)):\n",
    "\n",
    "    ARTICLES_DIR = join('data' ,'articles')\n",
    "    makedirs(ARTICLES_DIR, exist_ok=True)\n",
    "\n",
    "\n",
    "    MY_API_KEY ='539d12aa-9089-4d6a-898b-65e3f26e56d5'\n",
    "    API_ENDPOINT = 'http://content.guardianapis.com/search'\n",
    "    parameters = {\n",
    "        'from-date': \"\",\n",
    "        'to-date': \"\",\n",
    "        'order-by': \"newest\",\n",
    "        'show-fields': 'all',\n",
    "        'page-size': 200,\n",
    "        'api-key': MY_API_KEY\n",
    "    }\n",
    "\n",
    "\n",
    "\n",
    "\n",
    "    all_days = range((end_date - start_date).days + 1)\n",
    "    \n",
    "    for daycount in all_days:\n",
    "        dt = start_date + timedelta(days=daycount)\n",
    "        datestr = dt.strftime('%Y-%m-%d')\n",
    "        \n",
    "        file_name = join(ARTICLES_DIR, datestr + '.json')\n",
    "        \n",
    "        if not exists(file_name):\n",
    "            \n",
    "            print(\"Dowloading articles for date: \", datestr)\n",
    "            \n",
    "            final = []\n",
    "            parameters['from-date'] = datestr\n",
    "            parameters['to-date'] = datestr\n",
    "            current_page = 1\n",
    "            total_pages = 1\n",
    "            while current_page <= total_pages:\n",
    "                #print(\"page==\", current_page)\n",
    "                parameters['page'] = current_page\n",
    "                resp = requests.get(API_ENDPOINT, parameters)\n",
    "                data = resp.json()\n",
    "                final.extend(data['response']['results'])\n",
    "                current_page += 1\n",
    "                total_pages = data['response']['pages']\n",
    "\n",
    "            with open(file_name, 'w') as f:\n",
    "                #print(\"Writing to\", file_name)\n",
    "                f.write(json.dumps(final, indent=2))"
   ]
  },
  {
   "cell_type": "code",
   "execution_count": 4,
   "metadata": {
    "collapsed": false
   },
   "outputs": [
    {
     "name": "stdout",
     "output_type": "stream",
     "text": [
      "Dowloading articles for date:  2006-01-01\n",
      "Dowloading articles for date:  2006-01-02\n",
      "Dowloading articles for date:  2006-01-03\n",
      "Dowloading articles for date:  2006-01-04\n",
      "Dowloading articles for date:  2006-01-05\n",
      "Dowloading articles for date:  2006-01-06\n",
      "Dowloading articles for date:  2006-01-07\n",
      "Dowloading articles for date:  2006-01-08\n",
      "Dowloading articles for date:  2006-01-09\n",
      "Dowloading articles for date:  2006-01-10\n",
      "Dowloading articles for date:  2006-01-11\n",
      "Dowloading articles for date:  2006-01-12\n",
      "Dowloading articles for date:  2006-01-13\n",
      "Dowloading articles for date:  2006-01-14\n",
      "Dowloading articles for date:  2006-01-15\n"
     ]
    }
   ],
   "source": [
    "\n",
    "start= date(2006,1, 1)\n",
    "end = date(2006,1, 15)\n",
    "run = compile_guardian(start,end)"
   ]
  },
  {
   "cell_type": "code",
   "execution_count": null,
   "metadata": {
    "collapsed": true
   },
   "outputs": [],
   "source": []
  }
 ],
 "metadata": {
  "kernelspec": {
   "display_name": "Python 3",
   "language": "python",
   "name": "python3"
  },
  "language_info": {
   "codemirror_mode": {
    "name": "ipython",
    "version": 3
   },
   "file_extension": ".py",
   "mimetype": "text/x-python",
   "name": "python",
   "nbconvert_exporter": "python",
   "pygments_lexer": "ipython3",
   "version": "3.5.2"
  }
 },
 "nbformat": 4,
 "nbformat_minor": 0
}
