{
 "cells": [
  {
   "cell_type": "code",
   "execution_count": 7,
   "metadata": {
    "collapsed": true
   },
   "outputs": [],
   "source": [
    "\n",
    "\n",
    "\n",
    "from os.path import join, exists\n",
    "import pandas as pd\n",
    "from os import makedirs\n",
    "from datetime import date\n",
    "import pandas as pd\n",
    "import pandas_datareader.data as web\n",
    "\n",
    "def compile_stock_indices(start_date = date(2000,1, 1),end_date=date(2000,2, 1)):\n",
    "    STOCKS_DIR = join('data' ,'stock_data')\n",
    "    makedirs(STOCKS_DIR, exist_ok=True)\n",
    "\n",
    "    file_name = join(STOCKS_DIR, start_date.strftime('%Y-%m-%d') +'::'+ end_date.strftime('%Y-%m-%d') + '.pkl')\n",
    "\n",
    "    \n",
    "    df_sp500 = web.get_data_yahoo('%5EGSPC', start_date, end_date)   #sp500 \n",
    "    df_dow = web.get_data_yahoo('%5EDJI', start_date, end_date) \n",
    "    df_welshire = web.get_data_yahoo('WIBCX', start_date, end_date) \n",
    "    df_nasdaq = web.get_data_yahoo('%5EIXIC', start_date, end_date) \n",
    "    df_russel =   web.get_data_yahoo('%5ERUT', start_date, end_date)\n",
    "\n",
    "\n",
    "    df_sp500 = df_sp500[['Close']]\n",
    "    df_sp500.rename(columns={'Close': 'sp_500'}, inplace=True)\n",
    "\n",
    "    df_nasdaq = df_nasdaq[['Close']]\n",
    "    df_nasdaq.rename(columns={'Close': 'nasdaq'}, inplace=True)\n",
    "\n",
    "    df_dow = df_dow[['Close']]\n",
    "    df_dow.rename(columns={'Close': 'dow_jones'}, inplace=True)\n",
    "\n",
    "    df_welshire = df_welshire[['Close']]\n",
    "    df_welshire.rename(columns={'Close': 'welshire'}, inplace=True)\n",
    "\n",
    "\n",
    "    df_russel = df_russel[['Close']]\n",
    "    df_russel.rename(columns={'Close': 'russel'}, inplace=True)\n",
    "\n",
    "    df_stock_prices = pd.concat([df_sp500, df_nasdaq,df_dow,df_welshire,df_russel], axis=1)\n",
    "    \n",
    "    df_stock_prices.to_pickle(file_name)\n",
    "    print(\"Stock indices pickeld for date range:\",start_date.strftime('%Y-%m-%d') +'::'+ end_date.strftime('%Y-%m-%d'))\n",
    "    "
   ]
  },
  {
   "cell_type": "code",
   "execution_count": 8,
   "metadata": {
    "collapsed": false
   },
   "outputs": [
    {
     "name": "stdout",
     "output_type": "stream",
     "text": [
      "Stock indices pickeld for date range: 2006-01-01::2006-01-15\n"
     ]
    }
   ],
   "source": [
    "\n"
   ]
  },
  {
   "cell_type": "code",
   "execution_count": 12,
   "metadata": {
    "collapsed": false
   },
   "outputs": [],
   "source": []
  },
  {
   "cell_type": "code",
   "execution_count": 10,
   "metadata": {
    "collapsed": false
   },
   "outputs": [
    {
     "data": {
      "text/html": [
       "<div>\n",
       "<style>\n",
       "    .dataframe thead tr:only-child th {\n",
       "        text-align: right;\n",
       "    }\n",
       "\n",
       "    .dataframe thead th {\n",
       "        text-align: left;\n",
       "    }\n",
       "\n",
       "    .dataframe tbody tr th {\n",
       "        vertical-align: top;\n",
       "    }\n",
       "</style>\n",
       "<table border=\"1\" class=\"dataframe\">\n",
       "  <thead>\n",
       "    <tr style=\"text-align: right;\">\n",
       "      <th></th>\n",
       "      <th>sp_500</th>\n",
       "      <th>nasdaq</th>\n",
       "      <th>dow_jones</th>\n",
       "      <th>welshire</th>\n",
       "      <th>russel</th>\n",
       "    </tr>\n",
       "    <tr>\n",
       "      <th>Date</th>\n",
       "      <th></th>\n",
       "      <th></th>\n",
       "      <th></th>\n",
       "      <th></th>\n",
       "      <th></th>\n",
       "    </tr>\n",
       "  </thead>\n",
       "  <tbody>\n",
       "    <tr>\n",
       "      <th>2006-01-03</th>\n",
       "      <td>1268.800049</td>\n",
       "      <td>2243.739990</td>\n",
       "      <td>10847.410156</td>\n",
       "      <td>18.440001</td>\n",
       "      <td>684.049988</td>\n",
       "    </tr>\n",
       "    <tr>\n",
       "      <th>2006-01-04</th>\n",
       "      <td>1273.459961</td>\n",
       "      <td>2263.459961</td>\n",
       "      <td>10880.150391</td>\n",
       "      <td>18.719999</td>\n",
       "      <td>689.250000</td>\n",
       "    </tr>\n",
       "    <tr>\n",
       "      <th>2006-01-05</th>\n",
       "      <td>1273.479980</td>\n",
       "      <td>2276.870117</td>\n",
       "      <td>10882.150391</td>\n",
       "      <td>18.700001</td>\n",
       "      <td>691.770020</td>\n",
       "    </tr>\n",
       "    <tr>\n",
       "      <th>2006-01-06</th>\n",
       "      <td>1285.449951</td>\n",
       "      <td>2305.620117</td>\n",
       "      <td>10959.309570</td>\n",
       "      <td>18.889999</td>\n",
       "      <td>699.390015</td>\n",
       "    </tr>\n",
       "    <tr>\n",
       "      <th>2006-01-09</th>\n",
       "      <td>1290.150024</td>\n",
       "      <td>2318.689941</td>\n",
       "      <td>11011.900391</td>\n",
       "      <td>18.870001</td>\n",
       "      <td>706.239990</td>\n",
       "    </tr>\n",
       "    <tr>\n",
       "      <th>2006-01-10</th>\n",
       "      <td>1289.689941</td>\n",
       "      <td>2320.320068</td>\n",
       "      <td>11011.580078</td>\n",
       "      <td>18.680000</td>\n",
       "      <td>710.989990</td>\n",
       "    </tr>\n",
       "    <tr>\n",
       "      <th>2006-01-11</th>\n",
       "      <td>1294.180054</td>\n",
       "      <td>2331.360107</td>\n",
       "      <td>11043.440430</td>\n",
       "      <td>18.830000</td>\n",
       "      <td>711.190002</td>\n",
       "    </tr>\n",
       "    <tr>\n",
       "      <th>2006-01-12</th>\n",
       "      <td>1286.060059</td>\n",
       "      <td>2316.689941</td>\n",
       "      <td>10962.360352</td>\n",
       "      <td>18.889999</td>\n",
       "      <td>706.789978</td>\n",
       "    </tr>\n",
       "    <tr>\n",
       "      <th>2006-01-13</th>\n",
       "      <td>1287.609985</td>\n",
       "      <td>2317.040039</td>\n",
       "      <td>10959.870117</td>\n",
       "      <td>18.799999</td>\n",
       "      <td>708.440002</td>\n",
       "    </tr>\n",
       "  </tbody>\n",
       "</table>\n",
       "</div>"
      ],
      "text/plain": [
       "                 sp_500       nasdaq     dow_jones   welshire      russel\n",
       "Date                                                                     \n",
       "2006-01-03  1268.800049  2243.739990  10847.410156  18.440001  684.049988\n",
       "2006-01-04  1273.459961  2263.459961  10880.150391  18.719999  689.250000\n",
       "2006-01-05  1273.479980  2276.870117  10882.150391  18.700001  691.770020\n",
       "2006-01-06  1285.449951  2305.620117  10959.309570  18.889999  699.390015\n",
       "2006-01-09  1290.150024  2318.689941  11011.900391  18.870001  706.239990\n",
       "2006-01-10  1289.689941  2320.320068  11011.580078  18.680000  710.989990\n",
       "2006-01-11  1294.180054  2331.360107  11043.440430  18.830000  711.190002\n",
       "2006-01-12  1286.060059  2316.689941  10962.360352  18.889999  706.789978\n",
       "2006-01-13  1287.609985  2317.040039  10959.870117  18.799999  708.440002"
      ]
     },
     "execution_count": 10,
     "metadata": {},
     "output_type": "execute_result"
    }
   ],
   "source": []
  },
  {
   "cell_type": "code",
   "execution_count": null,
   "metadata": {
    "collapsed": true
   },
   "outputs": [],
   "source": []
  }
 ],
 "metadata": {
  "kernelspec": {
   "display_name": "Python 3",
   "language": "python",
   "name": "python3"
  },
  "language_info": {
   "codemirror_mode": {
    "name": "ipython",
    "version": 3
   },
   "file_extension": ".py",
   "mimetype": "text/x-python",
   "name": "python",
   "nbconvert_exporter": "python",
   "pygments_lexer": "ipython3",
   "version": "3.5.2"
  }
 },
 "nbformat": 4,
 "nbformat_minor": 0
}
